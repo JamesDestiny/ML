{
 "cells": [
  {
   "cell_type": "code",
   "execution_count": 26,
   "metadata": {
    "scrolled": false
   },
   "outputs": [
    {
     "ename": "TypeError",
     "evalue": "'NoneType' object is not iterable",
     "output_type": "error",
     "traceback": [
      "\u001b[0;31m---------------------------------------------------------------------------\u001b[0m",
      "\u001b[0;31mTypeError\u001b[0m                                 Traceback (most recent call last)",
      "\u001b[0;32m<ipython-input-26-199b11c54271>\u001b[0m in \u001b[0;36m<module>\u001b[0;34m\u001b[0m\n\u001b[1;32m     52\u001b[0m         \u001b[0mx\u001b[0m\u001b[0;34m[\u001b[0m\u001b[0mi\u001b[0m\u001b[0;34m]\u001b[0m\u001b[0;34m[\u001b[0m\u001b[0;36m0\u001b[0m\u001b[0;34m]\u001b[0m\u001b[0;34m=\u001b[0m\u001b[0mnumx\u001b[0m\u001b[0;34m/\u001b[0m\u001b[0mk\u001b[0m\u001b[0;31m#对该点赋K个最近邻点的均值\u001b[0m\u001b[0;34m\u001b[0m\u001b[0;34m\u001b[0m\u001b[0m\n\u001b[1;32m     53\u001b[0m         \u001b[0mx\u001b[0m\u001b[0;34m[\u001b[0m\u001b[0mi\u001b[0m\u001b[0;34m]\u001b[0m\u001b[0;34m[\u001b[0m\u001b[0;36m1\u001b[0m\u001b[0;34m]\u001b[0m\u001b[0;34m=\u001b[0m\u001b[0mnumy\u001b[0m\u001b[0;34m/\u001b[0m\u001b[0mk\u001b[0m\u001b[0;34m\u001b[0m\u001b[0;34m\u001b[0m\u001b[0m\n\u001b[0;32m---> 54\u001b[0;31m \u001b[0mKnn_regression\u001b[0m\u001b[0;34m(\u001b[0m\u001b[0mcols\u001b[0m\u001b[0;34m,\u001b[0m\u001b[0mK\u001b[0m\u001b[0;34m)\u001b[0m\u001b[0;34m\u001b[0m\u001b[0;34m\u001b[0m\u001b[0m\n\u001b[0m\u001b[1;32m     55\u001b[0m \u001b[0mplot_data\u001b[0m\u001b[0;34m(\u001b[0m\u001b[0mcols\u001b[0m\u001b[0;34m)\u001b[0m\u001b[0;34m\u001b[0m\u001b[0;34m\u001b[0m\u001b[0m\n\u001b[1;32m     56\u001b[0m \u001b[0;34m\u001b[0m\u001b[0m\n",
      "\u001b[0;32m<ipython-input-26-199b11c54271>\u001b[0m in \u001b[0;36mKnn_regression\u001b[0;34m(x, k)\u001b[0m\n\u001b[1;32m     37\u001b[0m         \u001b[0mnumy\u001b[0m\u001b[0;34m=\u001b[0m\u001b[0;36m0\u001b[0m\u001b[0;31m#用作求和\u001b[0m\u001b[0;34m\u001b[0m\u001b[0;34m\u001b[0m\u001b[0m\n\u001b[1;32m     38\u001b[0m         \u001b[0mdistance\u001b[0m\u001b[0;34m=\u001b[0m\u001b[0;34m[\u001b[0m\u001b[0;34m]\u001b[0m\u001b[0;34m\u001b[0m\u001b[0;34m\u001b[0m\u001b[0m\n\u001b[0;32m---> 39\u001b[0;31m         \u001b[0;32mfor\u001b[0m \u001b[0mj\u001b[0m \u001b[0;32min\u001b[0m \u001b[0ma\u001b[0m\u001b[0;34m.\u001b[0m\u001b[0mremove\u001b[0m\u001b[0;34m(\u001b[0m\u001b[0mi\u001b[0m\u001b[0;34m)\u001b[0m\u001b[0;34m:\u001b[0m\u001b[0;34m\u001b[0m\u001b[0;34m\u001b[0m\u001b[0m\n\u001b[0m\u001b[1;32m     40\u001b[0m             \u001b[0mdistance\u001b[0m\u001b[0;34m.\u001b[0m\u001b[0mappend\u001b[0m\u001b[0;34m(\u001b[0m\u001b[0mOu_distance\u001b[0m\u001b[0;34m(\u001b[0m\u001b[0mx\u001b[0m\u001b[0;34m[\u001b[0m\u001b[0mi\u001b[0m\u001b[0;34m]\u001b[0m\u001b[0;34m[\u001b[0m\u001b[0;36m0\u001b[0m\u001b[0;34m]\u001b[0m\u001b[0;34m,\u001b[0m\u001b[0mx\u001b[0m\u001b[0;34m[\u001b[0m\u001b[0mi\u001b[0m\u001b[0;34m]\u001b[0m\u001b[0;34m[\u001b[0m\u001b[0;36m1\u001b[0m\u001b[0;34m]\u001b[0m\u001b[0;34m,\u001b[0m\u001b[0mx\u001b[0m\u001b[0;34m[\u001b[0m\u001b[0mj\u001b[0m\u001b[0;34m]\u001b[0m\u001b[0;34m[\u001b[0m\u001b[0;36m0\u001b[0m\u001b[0;34m]\u001b[0m\u001b[0;34m,\u001b[0m\u001b[0mx\u001b[0m\u001b[0;34m[\u001b[0m\u001b[0mj\u001b[0m\u001b[0;34m]\u001b[0m\u001b[0;34m[\u001b[0m\u001b[0;36m1\u001b[0m\u001b[0;34m]\u001b[0m\u001b[0;34m)\u001b[0m\u001b[0;34m)\u001b[0m\u001b[0;31m#求出每一个点与当前点的欧式距离\u001b[0m\u001b[0;34m\u001b[0m\u001b[0;34m\u001b[0m\u001b[0m\n\u001b[1;32m     41\u001b[0m         \u001b[0;31m#找出距离中最小值的索引\u001b[0m\u001b[0;34m\u001b[0m\u001b[0;34m\u001b[0m\u001b[0;34m\u001b[0m\u001b[0m\n",
      "\u001b[0;31mTypeError\u001b[0m: 'NoneType' object is not iterable"
     ]
    },
    {
     "data": {
      "image/png": "[encoded data removed]",
      "text/plain": [
       "<Figure size 576x432 with 1 Axes>"
      ]
     },
     "metadata": {
      "needs_background": "light"
     },
     "output_type": "display_data"
    }
   ],
   "source": [
    "#KNN包含两种，一种是分类，一种是回归\n",
    "#KNN用作分类依旧使用Iris鸢尾花数据集iris.txt\n",
    "#KNN用作回归使用线性回归使用的数据集ex1data1.txt\n",
    "import numpy as np\n",
    "import matplotlib.pyplot as plt\n",
    "#首先进行KNN回归\n",
    "#读取数据\n",
    "data='data/ex1data1.txt'\n",
    "cols=np.loadtxt(data,delimiter=',',usecols=(0,1),unpack=True)\n",
    "cols=np.transpose(cols)\n",
    "m=cols.shape[0]#数据项大小\n",
    "n=cols.shape[1]#数据项维度\n",
    "#print(m)\n",
    "#print(n)\n",
    "a=[]\n",
    "for i in range(cols.shape[0]):\n",
    "    a.append(i)\n",
    "#观察数据\n",
    "def plot_data(x):\n",
    "    plt.figure(figsize=(8,6))\n",
    "    plt.grid(True)\n",
    "    plt.plot(x[:,0],x[:,1],'bx',label='data point')\n",
    "    plt.xlabel('feature_one')\n",
    "    plt.ylabel('feature_two')\n",
    "    plt.legend()\n",
    "plot_data(cols)\n",
    "#设置KNN回归中K的值\n",
    "K=5\n",
    "#设置欧式距离函数\n",
    "def Ou_distance(x1,y1,x2,y2):\n",
    "    return float(np.sqrt((x2-x1)**2+(y2-y1)**2))\n",
    "\n",
    "def Knn_regression(x,k):\n",
    "    predict_x=np.zeros((x.shape[0],x.shape[1]))\n",
    "    for i in range(x.shape[0]):\n",
    "        numx=0\n",
    "        numy=0#用作求和\n",
    "        distance=[]\n",
    "        b=a.remove(i)\n",
    "        for j in b:\n",
    "            distance.append(Ou_distance(x[i][0],x[i][1],x[j][0],x[j][1]))#求出每一个点与当前点的欧式距离\n",
    "        #找出距离中最小值的索引\n",
    "        for p in range(k):#总共找出k个值，回归求均值\n",
    "            index=distance.index(min(distance))\n",
    "            if(index<i):\n",
    "                numx=numx+x[index][0]\n",
    "                numy=numy+x[index][1]\n",
    "                del distance[index]#删除掉最小的，用于下一次寻找第二小的\n",
    "            else:\n",
    "                numx=numx+x[index+1][0]\n",
    "                numy=numy+x[index+1][1]\n",
    "                del distance[index]\n",
    "        x[i][0]=numx/k#对该点赋K个最近邻点的均值\n",
    "        x[i][1]=numy/k\n",
    "Knn_regression(cols,K)\n",
    "plot_data(cols)\n",
    "\n"
   ]
  },
  {
   "cell_type": "code",
   "execution_count": null,
   "metadata": {},
   "outputs": [],
   "source": []
  }
 ],
 "metadata": {
  "kernelspec": {
   "display_name": "Python 3",
   "language": "python",
   "name": "python3"
  },
  "language_info": {
   "codemirror_mode": {
    "name": "ipython",
    "version": 3
   },
   "file_extension": ".py",
   "mimetype": "text/x-python",
   "name": "python",
   "nbconvert_exporter": "python",
   "pygments_lexer": "ipython3",
   "version": "3.7.6"
  }
 },
 "nbformat": 4,
 "nbformat_minor": 4
}
