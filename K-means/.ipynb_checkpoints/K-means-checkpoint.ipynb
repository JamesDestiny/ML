{
 "cells": [
  {
   "cell_type": "code",
   "execution_count": 132,
   "metadata": {
    "scrolled": true
   },
   "outputs": [
    {
     "name": "stdout",
     "output_type": "stream",
     "text": [
      "[[1.01732013 4.84473647]\n",
      " [3.7875723  1.45442904]\n",
      " [6.72798098 3.0043983 ]]\n"
     ]
    },
    {
     "ename": "TypeError",
     "evalue": "array() missing required argument 'object' (pos 1)",
     "output_type": "error",
     "traceback": [
      "\u001b[0;31m---------------------------------------------------------------------------\u001b[0m",
      "\u001b[0;31mTypeError\u001b[0m                                 Traceback (most recent call last)",
      "\u001b[0;32m<ipython-input-132-8a271e70c0d5>\u001b[0m in \u001b[0;36m<module>\u001b[0;34m\u001b[0m\n\u001b[1;32m     57\u001b[0m         \u001b[0mmask\u001b[0m \u001b[0;34m=\u001b[0m \u001b[0mX\u001b[0m\u001b[0;34m[\u001b[0m\u001b[0;34m:\u001b[0m\u001b[0;34m,\u001b[0m\u001b[0;36m2\u001b[0m\u001b[0;34m]\u001b[0m\u001b[0;34m==\u001b[0m\u001b[0mi\u001b[0m\u001b[0;34m\u001b[0m\u001b[0;34m\u001b[0m\u001b[0m\n\u001b[1;32m     58\u001b[0m \u001b[0;34m\u001b[0m\u001b[0m\n\u001b[0;32m---> 59\u001b[0;31m \u001b[0mK_means\u001b[0m\u001b[0;34m(\u001b[0m\u001b[0mK\u001b[0m\u001b[0;34m,\u001b[0m\u001b[0mcols\u001b[0m\u001b[0;34m)\u001b[0m\u001b[0;34m\u001b[0m\u001b[0;34m\u001b[0m\u001b[0m\n\u001b[0m\u001b[1;32m     60\u001b[0m \u001b[0;31m#print(cols.shape)\u001b[0m\u001b[0;34m\u001b[0m\u001b[0;34m\u001b[0m\u001b[0;34m\u001b[0m\u001b[0m\n\u001b[1;32m     61\u001b[0m \u001b[0;34m\u001b[0m\u001b[0m\n",
      "\u001b[0;32m<ipython-input-132-8a271e70c0d5>\u001b[0m in \u001b[0;36mK_means\u001b[0;34m(K, X)\u001b[0m\n\u001b[1;32m     52\u001b[0m     \u001b[0;31m#得到C_i之后然后根据新的分类点更新不同簇的中心点的值，为该簇类所有点的均值\u001b[0m\u001b[0;34m\u001b[0m\u001b[0;34m\u001b[0m\u001b[0;34m\u001b[0m\u001b[0m\n\u001b[1;32m     53\u001b[0m     \u001b[0mX\u001b[0m\u001b[0;34m=\u001b[0m\u001b[0mnp\u001b[0m\u001b[0;34m.\u001b[0m\u001b[0mhstack\u001b[0m\u001b[0;34m(\u001b[0m\u001b[0;34m(\u001b[0m\u001b[0mX\u001b[0m\u001b[0;34m,\u001b[0m\u001b[0mC_i\u001b[0m\u001b[0;34m)\u001b[0m\u001b[0;34m)\u001b[0m\u001b[0;34m\u001b[0m\u001b[0;34m\u001b[0m\u001b[0m\n\u001b[0;32m---> 54\u001b[0;31m     \u001b[0mX1\u001b[0m\u001b[0;34m=\u001b[0m\u001b[0mnp\u001b[0m\u001b[0;34m.\u001b[0m\u001b[0marray\u001b[0m\u001b[0;34m(\u001b[0m\u001b[0;34m)\u001b[0m\u001b[0;34m\u001b[0m\u001b[0;34m\u001b[0m\u001b[0m\n\u001b[0m\u001b[1;32m     55\u001b[0m     \u001b[0;32mfor\u001b[0m \u001b[0mi\u001b[0m \u001b[0;32min\u001b[0m \u001b[0mrange\u001b[0m\u001b[0;34m(\u001b[0m\u001b[0mK\u001b[0m\u001b[0;34m)\u001b[0m\u001b[0;34m:\u001b[0m\u001b[0;34m\u001b[0m\u001b[0;34m\u001b[0m\u001b[0m\n\u001b[1;32m     56\u001b[0m         \u001b[0;31m#更新第i类的中心点的值\u001b[0m\u001b[0;34m\u001b[0m\u001b[0;34m\u001b[0m\u001b[0;34m\u001b[0m\u001b[0m\n",
      "\u001b[0;31mTypeError\u001b[0m: array() missing required argument 'object' (pos 1)"
     ]
    }
   ],
   "source": [
    "import numpy as np\n",
    "import matplotlib.pyplot as plt\n",
    "import  scipy.io#导入用来读取.mat 文件\n",
    "import random\n",
    "#读取数据\n",
    "data='data/ex7data1.mat'\n",
    "mat = scipy.io.loadmat(data)\n",
    "cols = mat['X']\n",
    "m=cols.shape[0]#数据项大小\n",
    "iterations = 1#初始化随机选取数据簇中心的K值次数\n",
    "C_i=np.zeros((m,1))#初始化ci，ci的第i个值分别代表对应xi所属的第几类\n",
    "K=3#初始化簇类的个数\n",
    "k_cluster_vals=np.zeros((K,cols.shape[1]))#初始化第k个簇中心的点的值\n",
    "\n",
    "#初步观察数据\n",
    "def plot_init_data():\n",
    "    plt.figure(figsize=(8,6))\n",
    "    plt.plot(cols[:,0],cols[:,1],'bo',label='init data points')\n",
    "    plt.grid(True)\n",
    "    plt.title('Training data plot')\n",
    "    plt.xlabel('X1')\n",
    "    plt.ylabel('X2')\n",
    "    plt.legend()\n",
    "#lot_init_data()\n",
    "#C_i\n",
    "#k_cluster_vals\n",
    "#构建K-means算法\n",
    "list_v=[]\n",
    "list_k=[]\n",
    "flist=np.array([])\n",
    "def K_means(K,X):\n",
    "    closest_k=1#将该点所属簇初始为1，计算距离\n",
    "    closest_val = 1000000#初始最小距离为0\n",
    "    for i in range(iterations):#随机初始化簇中心点选取点的值，总共随机选取iterations次\n",
    "        #随机生成K个簇中心值\n",
    "        k_cluster_vals=np.array(random.sample(list(cols),K)).reshape((K,cols.shape[1]))\n",
    "        print(k_cluster_vals)\n",
    "        #然后分别计算数据集中每一个点与簇中心点的距离，选取最近的簇中心点，并且归到该点中，即设置C-i的值\n",
    "        for j in range(X.shape[0]):\n",
    "            for o in range(k_cluster_vals.shape[0]):\n",
    "                val=0\n",
    "                for p in range(k_cluster_vals.shape[1]):\n",
    "                    val= val+(k_cluster_vals[o][p]-X[j][p])**2\n",
    "                list_v.append(val)\n",
    "                if(closest_val>val):\n",
    "                    closet_val=val\n",
    "    #根据运算得到C-i,使用方法np.argmin(array,axis=0/1),当axis为1时时按每一行求出最小值的索引，为0时则为列\n",
    "    #print(list_v)\n",
    "    #print(np.array(list_v).reshape((X.shape[0],K)))\n",
    "    C_i=np.argmin(np.array(list_v).reshape((X.shape[0],K)),axis=1).reshape((X.shape[0],1))#得到的ci中0代表第一类，1代表第二类。。。\n",
    "    #print(C_i)\n",
    "    #得到C_i之后然后根据新的分类点更新不同簇的中心点的值，为该簇类所有点的均值\n",
    "    X=np.hstack((X,C_i))\n",
    "    for i in range(K):\n",
    "        #更新第i类的中心点的值\n",
    "        mask = X[:,2]==i\n",
    "        \n",
    "K_means(K,cols)\n",
    "#print(cols.shape)\n",
    "\n"
   ]
  },
  {
   "cell_type": "code",
   "execution_count": 121,
   "metadata": {},
   "outputs": [
    {
     "data": {
      "text/plain": [
       "0.771622400723828"
      ]
     },
     "execution_count": 121,
     "metadata": {},
     "output_type": "execute_result"
    }
   ],
   "source": [
    "(6.00506534-5.19590823)**2+(2.72784171-3.06972937)**2"
   ]
  },
  {
   "cell_type": "code",
   "execution_count": 110,
   "metadata": {},
   "outputs": [
    {
     "data": {
      "text/plain": [
       "13.593588872720899"
      ]
     },
     "execution_count": 110,
     "metadata": {},
     "output_type": "execute_result"
    }
   ],
   "source": [
    "(6.00506534-2.98340757)**2+(2.72784171-4.84046406)**2"
   ]
  },
  {
   "cell_type": "code",
   "execution_count": null,
   "metadata": {},
   "outputs": [],
   "source": []
  }
 ],
 "metadata": {
  "kernelspec": {
   "display_name": "Python 3",
   "language": "python",
   "name": "python3"
  },
  "language_info": {
   "codemirror_mode": {
    "name": "ipython",
    "version": 3
   },
   "file_extension": ".py",
   "mimetype": "text/x-python",
   "name": "python",
   "nbconvert_exporter": "python",
   "pygments_lexer": "ipython3",
   "version": "3.7.6"
  }
 },
 "nbformat": 4,
 "nbformat_minor": 4
}
